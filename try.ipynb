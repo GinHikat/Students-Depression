{
 "cells": [
  {
   "cell_type": "code",
   "execution_count": 2,
   "id": "89329df1",
   "metadata": {},
   "outputs": [],
   "source": [
    "import numpy as np\n",
    "import pandas as pd\n",
    "from sklearn.linear_model import LogisticRegression\n",
    "from sklearn.metrics import accuracy_score, f1_score, precision_score\n",
    "from sklearn.ensemble import AdaBoostClassifier, GradientBoostingClassifier, RandomForestClassifier\n",
    "from sklearn.neighbors import KNeighborsClassifier\n",
    "from sklearn.tree import DecisionTreeClassifier\n",
    "from xgboost import XGBClassifier\n",
    "from catboost import CatBoostClassifier\n",
    "\n",
    "import tensorflow as tf\n",
    "from tensorflow.keras.layers import Dense\n",
    "from tensorflow.keras.models import Sequential\n",
    "from scikeras.wrappers import KerasRegressor\n",
    "\n",
    "from sklearn.model_selection import GridSearchCV\n",
    "from sklearn.preprocessing import LabelEncoder\n",
    "\n",
    "from Source_info.source import Source"
   ]
  },
  {
   "cell_type": "code",
   "execution_count": 3,
   "id": "6bc14d93",
   "metadata": {},
   "outputs": [
    {
     "name": "stderr",
     "output_type": "stream",
     "text": [
      "d:\\Study\\Setup\\anaconda\\config\\Lib\\site-packages\\sklearn\\preprocessing\\_label.py:114: DataConversionWarning: A column-vector y was passed when a 1d array was expected. Please change the shape of y to (n_samples, ), for example using ravel().\n",
      "  y = column_or_1d(y, warn=True)\n",
      "d:\\Study\\Setup\\anaconda\\config\\Lib\\site-packages\\sklearn\\preprocessing\\_label.py:132: DataConversionWarning: A column-vector y was passed when a 1d array was expected. Please change the shape of y to (n_samples, ), for example using ravel().\n",
      "  y = column_or_1d(y, dtype=self.classes_.dtype, warn=True)\n"
     ]
    }
   ],
   "source": [
    "X_train = pd.read_csv(Source.data_X_train_path, index_col=0)\n",
    "X_test = pd.read_csv(Source.data_X_test_path, index_col=0)\n",
    "y_train = pd.read_csv(Source.data_y_train_path)\n",
    "y_test = pd.read_csv(Source.data_y_test_path)\n",
    "\n",
    "encoder = LabelEncoder()\n",
    "y_train = np.ravel(pd.DataFrame(encoder.fit_transform(y_train)))\n",
    "y_test = np.ravel(pd.DataFrame(encoder.transform(y_test)))\n",
    "\n",
    "model_best_params = {}\n",
    "model_result = {}"
   ]
  },
  {
   "cell_type": "code",
   "execution_count": 34,
   "id": "6b81cf27",
   "metadata": {},
   "outputs": [],
   "source": [
    "def create_model(neurons = 32, layers = 3):\n",
    "    \n",
    "        model = Sequential()\n",
    "        model.add(Dense(neurons, activation='relu', input_shape = (X_train.shape[1],)))\n",
    "    \n",
    "        for _ in range(layers - 1):\n",
    "            model.add(Dense(neurons, activation='relu'))\n",
    "        \n",
    "        model.add(Dense(1))\n",
    "        model.compile(optimizer = 'adam', loss = 'mean_squared_error')\n",
    "        \n",
    "        return model"
   ]
  },
  {
   "cell_type": "code",
   "execution_count": 35,
   "id": "93e06fb4",
   "metadata": {},
   "outputs": [],
   "source": [
    "params = {\n",
    "        'model__neurons':[16, 32, 64, 128],\n",
    "        'model__layers':[1, 2, 3],\n",
    "        'epochs': [50, 100]\n",
    "}"
   ]
  },
  {
   "cell_type": "code",
   "execution_count": 37,
   "id": "4cbc11cf",
   "metadata": {},
   "outputs": [],
   "source": [
    "model = KerasRegressor(model = create_model, verbose = 0)\n",
    "\n",
    "grid = GridSearchCV(model, param_grid = params, cv = 3, n_jobs =  -1, scoring = 'r2')"
   ]
  },
  {
   "cell_type": "code",
   "execution_count": 38,
   "id": "a0fb4945",
   "metadata": {},
   "outputs": [
    {
     "name": "stderr",
     "output_type": "stream",
     "text": [
      "d:\\Study\\Setup\\anaconda\\config\\Lib\\site-packages\\keras\\src\\layers\\core\\dense.py:87: UserWarning: Do not pass an `input_shape`/`input_dim` argument to a layer. When using Sequential models, prefer using an `Input(shape)` object as the first layer in the model instead.\n",
      "  super().__init__(activity_regularizer=activity_regularizer, **kwargs)\n"
     ]
    },
    {
     "data": {
      "text/plain": [
       "{'epochs': 100, 'model__layers': 3, 'model__neurons': 16}"
      ]
     },
     "execution_count": 38,
     "metadata": {},
     "output_type": "execute_result"
    }
   ],
   "source": [
    "grid.fit(X_train, y_train)\n",
    "\n",
    "grid.best_params_"
   ]
  },
  {
   "cell_type": "code",
   "execution_count": null,
   "id": "f2cef4e1",
   "metadata": {},
   "outputs": [],
   "source": []
  }
 ],
 "metadata": {
  "kernelspec": {
   "display_name": "base",
   "language": "python",
   "name": "python3"
  },
  "language_info": {
   "codemirror_mode": {
    "name": "ipython",
    "version": 3
   },
   "file_extension": ".py",
   "mimetype": "text/x-python",
   "name": "python",
   "nbconvert_exporter": "python",
   "pygments_lexer": "ipython3",
   "version": "3.12.7"
  }
 },
 "nbformat": 4,
 "nbformat_minor": 5
}
